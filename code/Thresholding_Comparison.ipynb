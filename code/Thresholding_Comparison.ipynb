{
 "cells": [
  {
   "cell_type": "code",
   "execution_count": 6,
   "metadata": {
    "scrolled": true
   },
   "outputs": [
    {
     "data": {
      "text/plain": [
       "'Unsupervised Matching: DBPediaAuthors_DnbDataAuthors'"
      ]
     },
     "metadata": {},
     "output_type": "display_data"
    },
    {
     "name": "stdout",
     "output_type": "stream",
     "text": [
      "Stats about pool data\n",
      "Rescale values\n",
      "Nan values in input labelled data:  0\n",
      "Replace all Nan values with -1\n",
      "Profiling Density\n"
     ]
    },
    {
     "data": {
      "text/plain": [
       "{'birthdate': '0.935',\n",
       " 'cosine': '1.000',\n",
       " 'deathdate': '0.544',\n",
       " 'gender': '0.984',\n",
       " 'label': '1.000'}"
      ]
     },
     "metadata": {},
     "output_type": "display_data"
    },
    {
     "name": "stdout",
     "output_type": "stream",
     "text": [
      "Stats about validation data\n",
      "Rescale values\n",
      "Nan values in input labelled data:  0\n",
      "Replace all Nan values with -1\n"
     ]
    },
    {
     "data": {
      "text/plain": [
       "'Training size:'"
      ]
     },
     "metadata": {},
     "output_type": "display_data"
    },
    {
     "data": {
      "text/plain": [
       "13863"
      ]
     },
     "metadata": {},
     "output_type": "display_data"
    },
    {
     "data": {
      "text/plain": [
       "'Validation size:'"
      ]
     },
     "metadata": {},
     "output_type": "display_data"
    },
    {
     "data": {
      "text/plain": [
       "3465"
      ]
     },
     "metadata": {},
     "output_type": "display_data"
    },
    {
     "data": {
      "text/markdown": [
       "<span style='color:blue;font-size:160%'><b> Get bootstrapped pairs using feature value pairwise similarity *all* weighted by the feature density (*0.5) and cosine with tfidf (*0.5). </b></span>"
      ],
      "text/plain": [
       "<IPython.core.display.Markdown object>"
      ]
     },
     "metadata": {},
     "output_type": "display_data"
    },
    {
     "name": "stdout",
     "output_type": "stream",
     "text": [
      "Knee of the curve is at index = 12102\n",
      "Knee value = 0.3926132502959966\n"
     ]
    },
    {
     "data": {
      "text/plain": [
       "'Define Elbow threshold: 0.392613 '"
      ]
     },
     "metadata": {},
     "output_type": "display_data"
    },
    {
     "name": "stdout",
     "output_type": "stream",
     "text": [
      "Consider everything above the threshold as positive and below as negative.\n",
      "Class distribution in sample:\n"
     ]
    },
    {
     "data": {
      "text/plain": [
       "{0: 12102, 1: 1761}"
      ]
     },
     "metadata": {},
     "output_type": "display_data"
    },
    {
     "data": {
      "text/plain": [
       "'Training size:'"
      ]
     },
     "metadata": {},
     "output_type": "display_data"
    },
    {
     "data": {
      "text/plain": [
       "13863"
      ]
     },
     "metadata": {},
     "output_type": "display_data"
    },
    {
     "data": {
      "text/plain": [
       "'Validation size:'"
      ]
     },
     "metadata": {},
     "output_type": "display_data"
    },
    {
     "data": {
      "text/plain": [
       "3465"
      ]
     },
     "metadata": {},
     "output_type": "display_data"
    },
    {
     "name": "stdout",
     "output_type": "stream",
     "text": [
      "Method attrelbow_density gives 0.872861 prec, 0.618718 recall and 0.724138 f1 if noisy data are used to train a RF\n"
     ]
    },
    {
     "data": {
      "text/markdown": [
       "<span style='color:blue;font-size:160%'><b> Get bootstrapped pairs using feature value pairwise similarity *all* weighted by the feature density (*0.5) and cosine with tfidf (*0.5). </b></span>"
      ],
      "text/plain": [
       "<IPython.core.display.Markdown object>"
      ]
     },
     "metadata": {},
     "output_type": "display_data"
    },
    {
     "data": {
      "text/plain": [
       "'Define static threshold (0.5) and take positive and negative elements'"
      ]
     },
     "metadata": {},
     "output_type": "display_data"
    },
    {
     "name": "stdout",
     "output_type": "stream",
     "text": [
      "Threshold defined with static method threshold (0.5): 0.500243\n",
      "Consider everything above the threshold as positive and below as negative.\n",
      "Class distribution in sample:\n"
     ]
    },
    {
     "data": {
      "text/plain": [
       "{0: 13010, 1: 853}"
      ]
     },
     "metadata": {},
     "output_type": "display_data"
    },
    {
     "data": {
      "text/plain": [
       "'Training size:'"
      ]
     },
     "metadata": {},
     "output_type": "display_data"
    },
    {
     "data": {
      "text/plain": [
       "13863"
      ]
     },
     "metadata": {},
     "output_type": "display_data"
    },
    {
     "data": {
      "text/plain": [
       "'Validation size:'"
      ]
     },
     "metadata": {},
     "output_type": "display_data"
    },
    {
     "data": {
      "text/plain": [
       "3465"
      ]
     },
     "metadata": {},
     "output_type": "display_data"
    },
    {
     "name": "stdout",
     "output_type": "stream",
     "text": [
      "Method attrstatic_density gives 0.994924 prec, 0.339688 recall and 0.506460 f1 if noisy data are used to train a RF\n"
     ]
    },
    {
     "data": {
      "text/markdown": [
       "<span style='color:blue;font-size:160%'><b> Get bootstrapped pairs using feature value pairwise similarity *all* weighted by the feature density (*0.5) and cosine with tfidf (*0.5). </b></span>"
      ],
      "text/plain": [
       "<IPython.core.display.Markdown object>"
      ]
     },
     "metadata": {},
     "output_type": "display_data"
    },
    {
     "name": "stdout",
     "output_type": "stream",
     "text": [
      "Find Otsu's threshold: |████████████████████████████████████████████████████████████████████████████████████████████████████| 100.0% Complete\n",
      "Threshold defined with Otsu's method: 0.332890 \n"
     ]
    },
    {
     "data": {
      "text/plain": [
       "\"Define Otsu's threshold: 0.332890\""
      ]
     },
     "metadata": {},
     "output_type": "display_data"
    },
    {
     "name": "stdout",
     "output_type": "stream",
     "text": [
      "Consider everything above the threshold as positive and below as negative.\n",
      "Class distribution in sample:\n"
     ]
    },
    {
     "data": {
      "text/plain": [
       "{0: 10379, 1: 3484}"
      ]
     },
     "metadata": {},
     "output_type": "display_data"
    },
    {
     "data": {
      "text/plain": [
       "'Training size:'"
      ]
     },
     "metadata": {},
     "output_type": "display_data"
    },
    {
     "data": {
      "text/plain": [
       "13863"
      ]
     },
     "metadata": {},
     "output_type": "display_data"
    },
    {
     "data": {
      "text/plain": [
       "'Validation size:'"
      ]
     },
     "metadata": {},
     "output_type": "display_data"
    },
    {
     "data": {
      "text/plain": [
       "3465"
      ]
     },
     "metadata": {},
     "output_type": "display_data"
    },
    {
     "name": "stdout",
     "output_type": "stream",
     "text": [
      "Method attrotsu_density gives 0.498812 prec, 0.727903 recall and 0.591966 f1 if noisy data are used to train a RF\n"
     ]
    },
    {
     "data": {
      "text/markdown": [
       "<span style='color:blue;font-size:160%'><b> Get bootstrapped pairs using feature value pairwise similarity *all* weighted by the feature density (*0.5) and cosine with tfidf (*0.5). </b></span>"
      ],
      "text/plain": [
       "<IPython.core.display.Markdown object>"
      ]
     },
     "metadata": {},
     "output_type": "display_data"
    },
    {
     "name": "stdout",
     "output_type": "stream",
     "text": [
      "Find Valley threshold: |████████████████████████████████████████████████████████████████████████████████████████████████████| 100.0% Complete\n",
      "Threshold defined with valley threshold method: 0.375079 \n"
     ]
    },
    {
     "data": {
      "text/plain": [
       "'Define Valley threshold: 0.375079'"
      ]
     },
     "metadata": {},
     "output_type": "display_data"
    },
    {
     "name": "stdout",
     "output_type": "stream",
     "text": [
      "Consider everything above the threshold as positive and below as negative.\n",
      "Class distribution in sample:\n"
     ]
    },
    {
     "data": {
      "text/plain": [
       "{0: 11760, 1: 2103}"
      ]
     },
     "metadata": {},
     "output_type": "display_data"
    },
    {
     "data": {
      "text/plain": [
       "'Training size:'"
      ]
     },
     "metadata": {},
     "output_type": "display_data"
    },
    {
     "data": {
      "text/plain": [
       "13863"
      ]
     },
     "metadata": {},
     "output_type": "display_data"
    },
    {
     "data": {
      "text/plain": [
       "'Validation size:'"
      ]
     },
     "metadata": {},
     "output_type": "display_data"
    },
    {
     "data": {
      "text/plain": [
       "3465"
      ]
     },
     "metadata": {},
     "output_type": "display_data"
    },
    {
     "name": "stdout",
     "output_type": "stream",
     "text": [
      "Method attrvalley_density gives 0.776151 prec, 0.642981 recall and 0.703318 f1 if noisy data are used to train a RF\n"
     ]
    },
    {
     "data": {
      "text/html": [
       "<div>\n",
       "<style scoped>\n",
       "    .dataframe tbody tr th:only-of-type {\n",
       "        vertical-align: middle;\n",
       "    }\n",
       "\n",
       "    .dataframe tbody tr th {\n",
       "        vertical-align: top;\n",
       "    }\n",
       "\n",
       "    .dataframe thead th {\n",
       "        text-align: right;\n",
       "    }\n",
       "</style>\n",
       "<table border=\"1\" class=\"dataframe\">\n",
       "  <thead>\n",
       "    <tr style=\"text-align: right;\">\n",
       "      <th></th>\n",
       "      <th>Dataset</th>\n",
       "      <th>Bootstrap sample correctness</th>\n",
       "      <th>Bootstrap sample f1</th>\n",
       "      <th>Method</th>\n",
       "      <th>Precision</th>\n",
       "      <th>Recall</th>\n",
       "      <th>F1- Random Forest</th>\n",
       "    </tr>\n",
       "  </thead>\n",
       "  <tbody>\n",
       "    <tr>\n",
       "      <th>0</th>\n",
       "      <td>DBPediaAuthors_DnbDataAuthors</td>\n",
       "      <td>-</td>\n",
       "      <td>-</td>\n",
       "      <td>Passive Supervised Learning</td>\n",
       "      <td>0.988</td>\n",
       "      <td>0.965</td>\n",
       "      <td>0.976</td>\n",
       "    </tr>\n",
       "    <tr>\n",
       "      <th>1</th>\n",
       "      <td>DBPediaAuthors_DnbDataAuthors</td>\n",
       "      <td>0.918632</td>\n",
       "      <td>0.72285</td>\n",
       "      <td>attrelbow_density</td>\n",
       "      <td>0.873</td>\n",
       "      <td>0.619</td>\n",
       "      <td>0.724</td>\n",
       "    </tr>\n",
       "    <tr>\n",
       "      <th>2</th>\n",
       "      <td>DBPediaAuthors_DnbDataAuthors</td>\n",
       "      <td>0.894684</td>\n",
       "      <td>0.538267</td>\n",
       "      <td>attrstatic_density</td>\n",
       "      <td>0.995</td>\n",
       "      <td>0.340</td>\n",
       "      <td>0.506</td>\n",
       "    </tr>\n",
       "    <tr>\n",
       "      <th>3</th>\n",
       "      <td>DBPediaAuthors_DnbDataAuthors</td>\n",
       "      <td>0.83373</td>\n",
       "      <td>0.602106</td>\n",
       "      <td>attrotsu_density</td>\n",
       "      <td>0.499</td>\n",
       "      <td>0.728</td>\n",
       "      <td>0.592</td>\n",
       "    </tr>\n",
       "    <tr>\n",
       "      <th>4</th>\n",
       "      <td>DBPediaAuthors_DnbDataAuthors</td>\n",
       "      <td>0.906947</td>\n",
       "      <td>0.707616</td>\n",
       "      <td>attrvalley_density</td>\n",
       "      <td>0.776</td>\n",
       "      <td>0.643</td>\n",
       "      <td>0.703</td>\n",
       "    </tr>\n",
       "  </tbody>\n",
       "</table>\n",
       "</div>"
      ],
      "text/plain": [
       "                         Dataset Bootstrap sample correctness  \\\n",
       "0  DBPediaAuthors_DnbDataAuthors                            -   \n",
       "1  DBPediaAuthors_DnbDataAuthors                     0.918632   \n",
       "2  DBPediaAuthors_DnbDataAuthors                     0.894684   \n",
       "3  DBPediaAuthors_DnbDataAuthors                      0.83373   \n",
       "4  DBPediaAuthors_DnbDataAuthors                     0.906947   \n",
       "\n",
       "  Bootstrap sample f1                       Method Precision Recall  \\\n",
       "0                   -  Passive Supervised Learning     0.988  0.965   \n",
       "1             0.72285            attrelbow_density     0.873  0.619   \n",
       "2            0.538267           attrstatic_density     0.995  0.340   \n",
       "3            0.602106             attrotsu_density     0.499  0.728   \n",
       "4            0.707616           attrvalley_density     0.776  0.643   \n",
       "\n",
       "  F1- Random Forest  \n",
       "0             0.976  \n",
       "1             0.724  \n",
       "2             0.506  \n",
       "3             0.592  \n",
       "4             0.703  "
      ]
     },
     "metadata": {},
     "output_type": "display_data"
    },
    {
     "data": {
      "image/png": "[encoded data removed]",
      "text/plain": [
       "<Figure size 432x288 with 1 Axes>"
      ]
     },
     "metadata": {
      "needs_background": "light"
     },
     "output_type": "display_data"
    }
   ],
   "source": [
    "%matplotlib inline\n",
    "from datautils import*\n",
    "from IPython.display import Markdown, display\n",
    "import numpy as np\n",
    "from preprocessing import*\n",
    "from learning import*\n",
    "from bootstrapping import*\n",
    "from bootstrapping_unsupervised import*\n",
    "from similarityutils import*\n",
    "from collections import Counter\n",
    "import pandas as pd\n",
    "\n",
    "# run thresholding comparison\n",
    "thresholding()\n"
   ]
  },
  {
   "cell_type": "code",
   "execution_count": 5,
   "metadata": {},
   "outputs": [],
   "source": [
    "#start from here\n",
    "def thresholding():\n",
    "   \n",
    "    #set these parameters   \n",
    "    bootstrap_methods = ['attrelbow_density','attrstatic_density', 'attrotsu_density','attrvalley_density']\n",
    "    threshold_labels = ['elbow', 'static', 'otsu\\'s', 'valley']\n",
    "    threshold_colors = ['blue', 'green', 'orange', 'magenta']\n",
    "    threshold_text = [50, 100, 150, 200]\n",
    "    thresholds = []\n",
    "    model = 'rf'\n",
    "    dataPathmain = \"../datasets/author\"\n",
    "    domain = 'author'\n",
    "    datasets = [ 'DBPediaAuthors_DnbDataAuthors']\n",
    "        \n",
    "      \n",
    "    for dataset in datasets:\n",
    "        model_ = []\n",
    "        method_ = []\n",
    "        precision_=[]\n",
    "        precision_sigma=[]\n",
    "        recall_=[]\n",
    "        recall_sigma=[]\n",
    "        f1_=[]\n",
    "        f1_sigma = []\n",
    "        bootstrap_sample_correctness = []\n",
    "        bootstrap_sample_f1 = []\n",
    "\n",
    "        dataset_=[]\n",
    "        \n",
    "        #get data and profiling information\n",
    "        display(\"Unsupervised Matching: %s\" %dataset)\n",
    "        \n",
    "        featureFile_train = dataPathmain+'/features_'+dataset+'_train'\n",
    "        featureFile_test = dataPathmain+'/features_'+dataset+'_test'\n",
    "        \n",
    "        print(\"Stats about pool data\")\n",
    "        trainingData = getLabelledDataFromFile(featureFile_train, rescale=True)\n",
    "        print(\"Profiling Density\")\n",
    "        prof_results = dict()\n",
    "        data_values = trainingData['feature_values']\n",
    "        tobedropped=[]\n",
    "        for c in data_values.columns:\n",
    "            empty_values = len(data_values[data_values[c] == -1])\n",
    "            per= float(empty_values)/float(len(data_values[c]))\n",
    "            density = 1-per\n",
    "           \n",
    "            #drop non-dense attributes for the wdc datasets\n",
    "            if 'wdc_product' in domain:\n",
    "                column_name = c\n",
    "            else: column_name = c.split(\"_\")[0]\n",
    "            if (density<0.1):tobedropped.append(c)\n",
    "            else: prof_results[column_name]= (\"%.3f\" %density)\n",
    "        \n",
    "        if 'wdc_product' in domain:\n",
    "            print (\"Columns to be dropped:\", len(tobedropped))\n",
    "            trainingData['feature_values'] = trainingData['feature_values'].drop(tobedropped, axis=1)\n",
    "        display(prof_results)\n",
    "        print(\"Stats about validation data\")\n",
    "        validationData = getLabelledDataFromFile(featureFile_test, rescale=True)\n",
    "        if 'wdc_product' in domain:\n",
    "            validationData['feature_values'] = validationData['feature_values'].drop(tobedropped, axis=1)\n",
    "\n",
    "        \n",
    "        X = trainingData['feature_values']\n",
    "        y = trainingData['labels']\n",
    "        ids  = trainingData['ids']\n",
    "        bootstrap_sample_correctness\n",
    "    \n",
    "        #get results for supervised matching\n",
    "        prec, recall, fscore, support = batchTraining(X,y,validationData['feature_values'],validationData['labels'],model, printResults = False,\n",
    "                                                           optimization=False)\n",
    "        precision_.append(\"%.3f\" %prec)\n",
    "        recall_.append(\"%.3f\" %recall)\n",
    "        f1_.append(\"%.3f\" %fscore)\n",
    "        model_.append(model)\n",
    "        \n",
    "        dataset_.append(dataset)\n",
    "        method_.append('Passive Supervised Learning')\n",
    "        bootstrap_sample_correctness.append(\"-\")\n",
    "        bootstrap_sample_f1.append(\"-\")\n",
    "        for m in bootstrap_methods:\n",
    "\n",
    "            bootstrap = BootstrappingUnsupervised(data=X, labels=y, ids=ids, bootstrap_method=m, domain=domain)\n",
    "            sorted_dataset = bootstrap.sorted_dataset\n",
    "            thresholds.append(bootstrap.threshold)\n",
    "\n",
    "            bootstrapping_sample = bootstrap.sample\n",
    "            bootstrap_sample_correctness.append(bootstrapping_sample['correctness'])\n",
    "            bootstrap_sample_f1.append(bootstrapping_sample['f1'])\n",
    "\n",
    "            prec, recall, fscore, support = batchTraining(bootstrapping_sample['data'],bootstrapping_sample['labels'],\n",
    "                                                          validationData['feature_values'],validationData['labels'],model, printResults = False, optimization=False,\n",
    "                                                          showMisclassifications = False, ids = ids)\n",
    "\n",
    "            print(\"Method %s gives %f prec, %f recall and %f f1 if noisy data are used to train a RF\" % (m, prec, recall, fscore))\n",
    "            \n",
    "            method_.append(m)\n",
    "            model_.append(model)\n",
    "            precision_.append(\"%.3f\" %prec)\n",
    "\n",
    "            recall_.append(\"%.3f\" %recall)\n",
    "\n",
    "            f1_.append(\"%.3f\" %fscore)\n",
    "\n",
    "            dataset_.append(dataset)\n",
    "\n",
    "        results = list(zip(dataset_ ,bootstrap_sample_correctness, bootstrap_sample_f1,method_,precision_,recall_, f1_))\n",
    "        df_results = pd.DataFrame(results, columns = ['Dataset',  'Bootstrap sample correctness', 'Bootstrap sample f1','Method', 'Precision', 'Recall','F1- Random Forest']) \n",
    "        display(df_results)\n",
    "        \n",
    "        simple_hist, _ = np.histogram(sorted_dataset, bins=100, range=(0.0, 1.0))\n",
    "        plt.plot(np.arange(0.00,1.0,0.01),simple_hist)\n",
    "        for i in range(len(threshold_colors)):\n",
    "            plt.axvline(x=thresholds[i], c= threshold_colors[i])\n",
    "            plt.text(thresholds[i],threshold_text[i],threshold_labels[i],rotation=90)\n",
    "\n",
    "        plt.xlabel('similarity scores')\n",
    "        plt.ylabel('# record pairs')\n",
    "        plt.show()\n",
    "        "
   ]
  }
 ],
 "metadata": {
  "kernelspec": {
   "display_name": "Python 2",
   "language": "python",
   "name": "python2"
  },
  "language_info": {
   "codemirror_mode": {
    "name": "ipython",
    "version": 2
   },
   "file_extension": ".py",
   "mimetype": "text/x-python",
   "name": "python",
   "nbconvert_exporter": "python",
   "pygments_lexer": "ipython2",
   "version": "2.7.13"
  }
 },
 "nbformat": 4,
 "nbformat_minor": 2
}
