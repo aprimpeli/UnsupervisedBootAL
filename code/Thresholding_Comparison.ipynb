{
 "cells": [
  {
   "cell_type": "code",
   "execution_count": 15,
   "metadata": {
    "scrolled": true
   },
   "outputs": [
    {
     "data": {
      "text/plain": [
       "'Unsupervised Matching: headphones_headphones_catalog'"
      ]
     },
     "metadata": {},
     "output_type": "display_data"
    },
    {
     "name": "stdout",
     "output_type": "stream",
     "text": [
      "Stats about pool data\n",
      "Rescale values\n",
      "Nan values in input labelled data:  0\n",
      "Replace all Nan values with -1\n",
      "Profiling Density\n"
     ]
    },
    {
     "data": {
      "text/plain": [
       "{'<http://schema.org/Product/brand>': '0.913',\n",
       " '<http://schema.org/Product/color>': '0.269',\n",
       " '<http://schema.org/Product/connectivity': '0.384',\n",
       " '<http://schema.org/Product/frequency': '0.202',\n",
       " '<http://schema.org/Product/headphones': '0.555',\n",
       " '<http://schema.org/Product/impedance>': '0.445',\n",
       " '<http://schema.org/Product/included': '0.110',\n",
       " '<http://schema.org/Product/model>': '0.658',\n",
       " '<http://schema.org/Product/mpn>': '0.355',\n",
       " '<http://schema.org/Product/product': '0.269',\n",
       " '<http://schema.org/Product/sensitivity>': '0.310',\n",
       " '<http://schema.org/Product/warranty>': '0.117',\n",
       " '<http://schema.org/Product/weight>': '0.182',\n",
       " 'cosine': '1.000'}"
      ]
     },
     "metadata": {},
     "output_type": "display_data"
    },
    {
     "name": "stdout",
     "output_type": "stream",
     "text": [
      "Stats about validation data\n",
      "Rescale values\n",
      "Nan values in input labelled data:  0\n",
      "Replace all Nan values with -1\n"
     ]
    },
    {
     "data": {
      "text/plain": [
       "'Training size:'"
      ]
     },
     "metadata": {},
     "output_type": "display_data"
    },
    {
     "data": {
      "text/plain": [
       "1163"
      ]
     },
     "metadata": {},
     "output_type": "display_data"
    },
    {
     "data": {
      "text/plain": [
       "'Validation size:'"
      ]
     },
     "metadata": {},
     "output_type": "display_data"
    },
    {
     "data": {
      "text/plain": [
       "290"
      ]
     },
     "metadata": {},
     "output_type": "display_data"
    },
    {
     "data": {
      "text/markdown": [
       "<span style='color:blue;font-size:160%'><b> Get bootstrapped pairs using feature value pairwise similarity *all* weighted by the feature density (*0.5) and cosine with tfidf (*0.5). </b></span>"
      ],
      "text/plain": [
       "<IPython.core.display.Markdown object>"
      ]
     },
     "metadata": {},
     "output_type": "display_data"
    },
    {
     "name": "stdout",
     "output_type": "stream",
     "text": [
      "Knee of the curve is at index = 937\n",
      "Knee value = 0.3399855413747971\n"
     ]
    },
    {
     "data": {
      "text/plain": [
       "'Define Elbow threshold: 0.339986 '"
      ]
     },
     "metadata": {},
     "output_type": "display_data"
    },
    {
     "name": "stdout",
     "output_type": "stream",
     "text": [
      "Consider everything above the threshold as positive and below as negative.\n",
      "Class distribution in sample:\n"
     ]
    },
    {
     "data": {
      "text/plain": [
       "{0: 937, 1: 226}"
      ]
     },
     "metadata": {},
     "output_type": "display_data"
    },
    {
     "data": {
      "text/plain": [
       "'Training size:'"
      ]
     },
     "metadata": {},
     "output_type": "display_data"
    },
    {
     "data": {
      "text/plain": [
       "1163"
      ]
     },
     "metadata": {},
     "output_type": "display_data"
    },
    {
     "data": {
      "text/plain": [
       "'Validation size:'"
      ]
     },
     "metadata": {},
     "output_type": "display_data"
    },
    {
     "data": {
      "text/plain": [
       "290"
      ]
     },
     "metadata": {},
     "output_type": "display_data"
    },
    {
     "name": "stdout",
     "output_type": "stream",
     "text": [
      "Method attrelbow_density gives 0.634921 prec, 0.888889 recall and 0.740741 f1 if noisy data are used to train a RF\n"
     ]
    },
    {
     "data": {
      "text/markdown": [
       "<span style='color:blue;font-size:160%'><b> Get bootstrapped pairs using feature value pairwise similarity *all* weighted by the feature density (*0.5) and cosine with tfidf (*0.5). </b></span>"
      ],
      "text/plain": [
       "<IPython.core.display.Markdown object>"
      ]
     },
     "metadata": {},
     "output_type": "display_data"
    },
    {
     "data": {
      "text/plain": [
       "'Define static threshold (0.5) and take positive and negative elements'"
      ]
     },
     "metadata": {},
     "output_type": "display_data"
    },
    {
     "name": "stdout",
     "output_type": "stream",
     "text": [
      "Threshold defined with static method threshold (0.5): 0.501504\n",
      "Consider everything above the threshold as positive and below as negative.\n",
      "Class distribution in sample:\n"
     ]
    },
    {
     "data": {
      "text/plain": [
       "{0: 1083, 1: 80}"
      ]
     },
     "metadata": {},
     "output_type": "display_data"
    },
    {
     "data": {
      "text/plain": [
       "'Training size:'"
      ]
     },
     "metadata": {},
     "output_type": "display_data"
    },
    {
     "data": {
      "text/plain": [
       "1163"
      ]
     },
     "metadata": {},
     "output_type": "display_data"
    },
    {
     "data": {
      "text/plain": [
       "'Validation size:'"
      ]
     },
     "metadata": {},
     "output_type": "display_data"
    },
    {
     "data": {
      "text/plain": [
       "290"
      ]
     },
     "metadata": {},
     "output_type": "display_data"
    },
    {
     "name": "stdout",
     "output_type": "stream",
     "text": [
      "Method attrstatic_density gives 0.937500 prec, 0.333333 recall and 0.491803 f1 if noisy data are used to train a RF\n"
     ]
    },
    {
     "data": {
      "text/markdown": [
       "<span style='color:blue;font-size:160%'><b> Get bootstrapped pairs using feature value pairwise similarity *all* weighted by the feature density (*0.5) and cosine with tfidf (*0.5). </b></span>"
      ],
      "text/plain": [
       "<IPython.core.display.Markdown object>"
      ]
     },
     "metadata": {},
     "output_type": "display_data"
    },
    {
     "name": "stdout",
     "output_type": "stream",
     "text": [
      "Find Otsu's threshold: |████████████████████████████████████████████████████████████████████████████████████████████████████| 100.0% Complete\n",
      "Threshold defined with Otsu's method: 0.314259 \n"
     ]
    },
    {
     "data": {
      "text/plain": [
       "\"Define Otsu's threshold: 0.314259\""
      ]
     },
     "metadata": {},
     "output_type": "display_data"
    },
    {
     "name": "stdout",
     "output_type": "stream",
     "text": [
      "Consider everything above the threshold as positive and below as negative.\n",
      "Class distribution in sample:\n"
     ]
    },
    {
     "data": {
      "text/plain": [
       "{0: 892, 1: 271}"
      ]
     },
     "metadata": {},
     "output_type": "display_data"
    },
    {
     "data": {
      "text/plain": [
       "'Training size:'"
      ]
     },
     "metadata": {},
     "output_type": "display_data"
    },
    {
     "data": {
      "text/plain": [
       "1163"
      ]
     },
     "metadata": {},
     "output_type": "display_data"
    },
    {
     "data": {
      "text/plain": [
       "'Validation size:'"
      ]
     },
     "metadata": {},
     "output_type": "display_data"
    },
    {
     "data": {
      "text/plain": [
       "290"
      ]
     },
     "metadata": {},
     "output_type": "display_data"
    },
    {
     "name": "stdout",
     "output_type": "stream",
     "text": [
      "Method attrotsu_density gives 0.555556 prec, 1.000000 recall and 0.714286 f1 if noisy data are used to train a RF\n"
     ]
    },
    {
     "data": {
      "text/markdown": [
       "<span style='color:blue;font-size:160%'><b> Get bootstrapped pairs using feature value pairwise similarity *all* weighted by the feature density (*0.5) and cosine with tfidf (*0.5). </b></span>"
      ],
      "text/plain": [
       "<IPython.core.display.Markdown object>"
      ]
     },
     "metadata": {},
     "output_type": "display_data"
    },
    {
     "name": "stdout",
     "output_type": "stream",
     "text": [
      "Find Valley threshold: |████████████████████████████████████████████████████████████████████████████████████████████████████| 100.0% Complete\n",
      "Threshold defined with valley threshold method: 0.302535 \n"
     ]
    },
    {
     "data": {
      "text/plain": [
       "'Define Valley threshold: 0.302535'"
      ]
     },
     "metadata": {},
     "output_type": "display_data"
    },
    {
     "name": "stdout",
     "output_type": "stream",
     "text": [
      "Consider everything above the threshold as positive and below as negative.\n",
      "Class distribution in sample:\n"
     ]
    },
    {
     "data": {
      "text/plain": [
       "{0: 877, 1: 286}"
      ]
     },
     "metadata": {},
     "output_type": "display_data"
    },
    {
     "data": {
      "text/plain": [
       "'Training size:'"
      ]
     },
     "metadata": {},
     "output_type": "display_data"
    },
    {
     "data": {
      "text/plain": [
       "1163"
      ]
     },
     "metadata": {},
     "output_type": "display_data"
    },
    {
     "data": {
      "text/plain": [
       "'Validation size:'"
      ]
     },
     "metadata": {},
     "output_type": "display_data"
    },
    {
     "data": {
      "text/plain": [
       "290"
      ]
     },
     "metadata": {},
     "output_type": "display_data"
    },
    {
     "name": "stdout",
     "output_type": "stream",
     "text": [
      "Method attrvalley_density gives 0.536585 prec, 0.977778 recall and 0.692913 f1 if noisy data are used to train a RF\n"
     ]
    },
    {
     "data": {
      "text/html": [
       "<div>\n",
       "<style scoped>\n",
       "    .dataframe tbody tr th:only-of-type {\n",
       "        vertical-align: middle;\n",
       "    }\n",
       "\n",
       "    .dataframe tbody tr th {\n",
       "        vertical-align: top;\n",
       "    }\n",
       "\n",
       "    .dataframe thead th {\n",
       "        text-align: right;\n",
       "    }\n",
       "</style>\n",
       "<table border=\"1\" class=\"dataframe\">\n",
       "  <thead>\n",
       "    <tr style=\"text-align: right;\">\n",
       "      <th></th>\n",
       "      <th>Dataset</th>\n",
       "      <th>Bootstrap sample correctness</th>\n",
       "      <th>Bootstrap sample f1</th>\n",
       "      <th>Method</th>\n",
       "      <th>Precision</th>\n",
       "      <th>Recall</th>\n",
       "      <th>F1- Random Forest</th>\n",
       "    </tr>\n",
       "  </thead>\n",
       "  <tbody>\n",
       "    <tr>\n",
       "      <th>0</th>\n",
       "      <td>headphones_headphones_catalog</td>\n",
       "      <td>-</td>\n",
       "      <td>-</td>\n",
       "      <td>Passive Supervised Learning</td>\n",
       "      <td>0.977</td>\n",
       "      <td>0.956</td>\n",
       "      <td>0.966</td>\n",
       "    </tr>\n",
       "    <tr>\n",
       "      <th>1</th>\n",
       "      <td>headphones_headphones_catalog</td>\n",
       "      <td>0.905417</td>\n",
       "      <td>0.729064</td>\n",
       "      <td>attrelbow_density</td>\n",
       "      <td>0.635</td>\n",
       "      <td>0.889</td>\n",
       "      <td>0.741</td>\n",
       "    </tr>\n",
       "    <tr>\n",
       "      <th>2</th>\n",
       "      <td>headphones_headphones_catalog</td>\n",
       "      <td>0.901978</td>\n",
       "      <td>0.561538</td>\n",
       "      <td>attrstatic_density</td>\n",
       "      <td>0.938</td>\n",
       "      <td>0.333</td>\n",
       "      <td>0.492</td>\n",
       "    </tr>\n",
       "    <tr>\n",
       "      <th>3</th>\n",
       "      <td>headphones_headphones_catalog</td>\n",
       "      <td>0.877042</td>\n",
       "      <td>0.682927</td>\n",
       "      <td>attrotsu_density</td>\n",
       "      <td>0.556</td>\n",
       "      <td>1.000</td>\n",
       "      <td>0.714</td>\n",
       "    </tr>\n",
       "    <tr>\n",
       "      <th>4</th>\n",
       "      <td>headphones_headphones_catalog</td>\n",
       "      <td>0.869304</td>\n",
       "      <td>0.67382</td>\n",
       "      <td>attrvalley_density</td>\n",
       "      <td>0.537</td>\n",
       "      <td>0.978</td>\n",
       "      <td>0.693</td>\n",
       "    </tr>\n",
       "  </tbody>\n",
       "</table>\n",
       "</div>"
      ],
      "text/plain": [
       "                         Dataset Bootstrap sample correctness  \\\n",
       "0  headphones_headphones_catalog                            -   \n",
       "1  headphones_headphones_catalog                     0.905417   \n",
       "2  headphones_headphones_catalog                     0.901978   \n",
       "3  headphones_headphones_catalog                     0.877042   \n",
       "4  headphones_headphones_catalog                     0.869304   \n",
       "\n",
       "  Bootstrap sample f1                       Method Precision Recall  \\\n",
       "0                   -  Passive Supervised Learning     0.977  0.956   \n",
       "1            0.729064            attrelbow_density     0.635  0.889   \n",
       "2            0.561538           attrstatic_density     0.938  0.333   \n",
       "3            0.682927             attrotsu_density     0.556  1.000   \n",
       "4             0.67382           attrvalley_density     0.537  0.978   \n",
       "\n",
       "  F1- Random Forest  \n",
       "0             0.966  \n",
       "1             0.741  \n",
       "2             0.492  \n",
       "3             0.714  \n",
       "4             0.693  "
      ]
     },
     "metadata": {},
     "output_type": "display_data"
    },
    {
     "data": {
      "image/png": "[encoded data removed]",
      "text/plain": [
       "<Figure size 432x288 with 1 Axes>"
      ]
     },
     "metadata": {
      "needs_background": "light"
     },
     "output_type": "display_data"
    }
   ],
   "source": [
    "%matplotlib inline\n",
    "from datautils import*\n",
    "from IPython.display import Markdown, display\n",
    "import numpy as np\n",
    "from preprocessing import*\n",
    "from learning import*\n",
    "from bootstrapping import*\n",
    "from bootstrapping_unsupervised import*\n",
    "from similarityutils import*\n",
    "from collections import Counter\n",
    "import pandas as pd\n",
    "\n",
    "# run thresholding comparison\n",
    "thresholding()\n"
   ]
  },
  {
   "cell_type": "code",
   "execution_count": 14,
   "metadata": {},
   "outputs": [],
   "source": [
    "#start from here\n",
    "def thresholding():\n",
    "   \n",
    "    #set these parameters   \n",
    "    bootstrap_methods = ['attrelbow_density','attrstatic_density', 'attrotsu_density','attrvalley_density']\n",
    "    threshold_labels = ['elbow', 'static', 'Otsu\\'s', 'valley']\n",
    "    #threshold_colors = ['blue', 'green', 'orange', 'magenta']\n",
    "    threshold_colors = [ '#56B4E9',\"#E69F00\" ,'#009E73', '#CC79A7']\n",
    "    threshold_linestyles = [None, 'dotted' , (0, (5, 1)), (0, (5, 10))]\n",
    "    threshold_text = [50, 100, 150, 200]\n",
    "    thresholds = []\n",
    "    model = 'rf'\n",
    "    dataPathmain = \"../datasets/wdc_product\"\n",
    "    domain = 'product'\n",
    "    datasets = [ 'headphones_headphones_catalog']\n",
    "        \n",
    "      \n",
    "    for dataset in datasets:\n",
    "        model_ = []\n",
    "        method_ = []\n",
    "        precision_=[]\n",
    "        precision_sigma=[]\n",
    "        recall_=[]\n",
    "        recall_sigma=[]\n",
    "        f1_=[]\n",
    "        f1_sigma = []\n",
    "        bootstrap_sample_correctness = []\n",
    "        bootstrap_sample_f1 = []\n",
    "\n",
    "        dataset_=[]\n",
    "        \n",
    "        #get data and profiling information\n",
    "        display(\"Unsupervised Matching: %s\" %dataset)\n",
    "        \n",
    "        featureFile_train = dataPathmain+'/features_'+dataset+'_train'\n",
    "        featureFile_test = dataPathmain+'/features_'+dataset+'_test'\n",
    "        \n",
    "        print(\"Stats about pool data\")\n",
    "        trainingData = getLabelledDataFromFile(featureFile_train, rescale=True)\n",
    "        print(\"Profiling Density\")\n",
    "        prof_results = dict()\n",
    "        data_values = trainingData['feature_values']\n",
    "        tobedropped=[]\n",
    "        for c in data_values.columns:\n",
    "            empty_values = len(data_values[data_values[c] == -1])\n",
    "            per= float(empty_values)/float(len(data_values[c]))\n",
    "            density = 1-per\n",
    "           \n",
    "            #drop non-dense attributes for the wdc datasets\n",
    "            if 'wdc_product' in domain:\n",
    "                column_name = c\n",
    "            else: column_name = c.split(\"_\")[0]\n",
    "            if (density<0.1):tobedropped.append(c)\n",
    "            else: prof_results[column_name]= (\"%.3f\" %density)\n",
    "        \n",
    "        if 'wdc_product' in domain:\n",
    "            print (\"Columns to be dropped:\", len(tobedropped))\n",
    "            trainingData['feature_values'] = trainingData['feature_values'].drop(tobedropped, axis=1)\n",
    "        display(prof_results)\n",
    "        print(\"Stats about validation data\")\n",
    "        validationData = getLabelledDataFromFile(featureFile_test, rescale=True)\n",
    "        if 'wdc_product' in domain:\n",
    "            validationData['feature_values'] = validationData['feature_values'].drop(tobedropped, axis=1)\n",
    "\n",
    "        \n",
    "        X = trainingData['feature_values']\n",
    "        y = trainingData['labels']\n",
    "        ids  = trainingData['ids']\n",
    "        bootstrap_sample_correctness\n",
    "    \n",
    "        #get results for supervised matching\n",
    "        prec, recall, fscore, support = batchTraining(X,y,validationData['feature_values'],validationData['labels'],model, printResults = False,\n",
    "                                                           optimization=False)\n",
    "        precision_.append(\"%.3f\" %prec)\n",
    "        recall_.append(\"%.3f\" %recall)\n",
    "        f1_.append(\"%.3f\" %fscore)\n",
    "        model_.append(model)\n",
    "        \n",
    "        dataset_.append(dataset)\n",
    "        method_.append('Passive Supervised Learning')\n",
    "        bootstrap_sample_correctness.append(\"-\")\n",
    "        bootstrap_sample_f1.append(\"-\")\n",
    "        for m in bootstrap_methods:\n",
    "\n",
    "            bootstrap = BootstrappingUnsupervised(data=X, labels=y, ids=ids, bootstrap_method=m, domain=domain)\n",
    "            sorted_dataset = bootstrap.sorted_dataset\n",
    "            thresholds.append(bootstrap.threshold)\n",
    "\n",
    "            bootstrapping_sample = bootstrap.sample\n",
    "            bootstrap_sample_correctness.append(bootstrapping_sample['correctness'])\n",
    "            bootstrap_sample_f1.append(bootstrapping_sample['f1'])\n",
    "\n",
    "            prec, recall, fscore, support = batchTraining(bootstrapping_sample['data'],bootstrapping_sample['labels'],\n",
    "                                                          validationData['feature_values'],validationData['labels'],model, printResults = False, optimization=False,\n",
    "                                                          showMisclassifications = False, ids = ids)\n",
    "\n",
    "            print(\"Method %s gives %f prec, %f recall and %f f1 if noisy data are used to train a RF\" % (m, prec, recall, fscore))\n",
    "            \n",
    "            method_.append(m)\n",
    "            model_.append(model)\n",
    "            precision_.append(\"%.3f\" %prec)\n",
    "\n",
    "            recall_.append(\"%.3f\" %recall)\n",
    "\n",
    "            f1_.append(\"%.3f\" %fscore)\n",
    "\n",
    "            dataset_.append(dataset)\n",
    "\n",
    "        results = list(zip(dataset_ ,bootstrap_sample_correctness, bootstrap_sample_f1,method_,precision_,recall_, f1_))\n",
    "        df_results = pd.DataFrame(results, columns = ['Dataset',  'Bootstrap sample correctness', 'Bootstrap sample f1','Method', 'Precision', 'Recall','F1- Random Forest']) \n",
    "        display(df_results)\n",
    "        \n",
    "        simple_hist, _ = np.histogram(sorted_dataset, bins=100, range=(0.0, 1.0))\n",
    "        fig, ax = plt.subplots()\n",
    "        ax.plot(np.arange(0.00,1.0,0.01),simple_hist, c='#000000')\n",
    "        for i in range(len(threshold_colors)):\n",
    "            ax.axvline(x=thresholds[i], c= threshold_colors[i], linestyle =  threshold_linestyles[i], label=threshold_labels[i])\n",
    "            #ax.text(thresholds[i],threshold_text[i],threshold_labels[i],rotation=90)\n",
    "        \n",
    "        ax.legend(fontsize=18)\n",
    "        plt.xlabel('similarity scores')\n",
    "        plt.ylabel('# record pairs')\n",
    "        plt.savefig('../results/graphs/%s_threshold_comparison.pdf' % dataset, bbox_inches='tight', format='pdf')\n",
    "        \n",
    "        "
   ]
  }
 ],
 "metadata": {
  "kernelspec": {
   "display_name": "Python 2",
   "language": "python",
   "name": "python2"
  },
  "language_info": {
   "codemirror_mode": {
    "name": "ipython",
    "version": 2
   },
   "file_extension": ".py",
   "mimetype": "text/x-python",
   "name": "python",
   "nbconvert_exporter": "python",
   "pygments_lexer": "ipython2",
   "version": "2.7.13"
  }
 },
 "nbformat": 4,
 "nbformat_minor": 2
}
